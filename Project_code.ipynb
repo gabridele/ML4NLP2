{
 "cells": [
  {
   "cell_type": "markdown",
   "metadata": {},
   "source": [
    "In this file the basic ModAL PyTorch DeepActiveLearner workflow is explained \n",
    "through an example on the MNIST dataset and the MC-Dropout-Bald query strategy."
   ]
  },
  {
   "cell_type": "markdown",
   "metadata": {},
   "source": [
    "- Do previous trainings influence the performance of the next ones? or are each of them independent, like they restart from zero\n",
    "- Am I doing dropout correctly? like is this what prof asked?"
   ]
  },
  {
   "cell_type": "markdown",
   "metadata": {},
   "source": [
    " If you are using a loss function like torch.nn.CrossEntropyLoss, it includes softmax internally, so you don't need to explicitly apply softmax in your model."
   ]
  },
  {
   "cell_type": "markdown",
   "metadata": {},
   "source": [
    "You can save in current working directory your trained PyTorch model using torch.save. For example:\n",
    "python\n",
    "\n",
    "- torch.save(model.state_dict(), 'your_model.pth')\n",
    "\n",
    "This saves the state dictionary of your model to a file named 'your_model.pth'. You can later load the model using _model.load_state_dict(torch.load('your_model.pth'))_."
   ]
  },
  {
   "cell_type": "markdown",
   "metadata": {},
   "source": [
    "If you run model = YourModel() every time before the training loop, it means you are creating a new instance of the model with random weights each time. This effectively resets the model, and any training progress from previous runs will be lost.\n",
    "\n",
    "**So after very 1st run:**\n",
    "- comment out model = model() to make sure it doesnt get resetted. \n",
    "- no need to re-run wandb login\n",
    "- run cells where you make changes in the parameters to tweak a bit around\n",
    "- lastly run training for loop\n"
   ]
  },
  {
   "cell_type": "code",
   "execution_count": 19,
   "metadata": {},
   "outputs": [],
   "source": [
    "from modAL.uncertainty import uncertainty_sampling\n",
    "import numpy as np\n",
    "import torch\n",
    "# import of query strategies\n",
    "from modAL.dropout import mc_dropout_bald\n",
    "from modAL.models import DeepActiveLearner\n",
    "from skorch import NeuralNetClassifier\n",
    "from torch import nn\n",
    "from torch.utils.data import DataLoader\n",
    "from torchvision.datasets import MNIST\n",
    "from torchvision.transforms import ToTensor\n",
    "from sklearn.model_selection import train_test_split\n",
    "import matplotlib.pyplot as plt\n",
    "import wandb"
   ]
  },
  {
   "cell_type": "markdown",
   "metadata": {},
   "source": [
    "Initialize wandb"
   ]
  },
  {
   "cell_type": "markdown",
   "metadata": {},
   "source": [
    "## Dataset"
   ]
  },
  {
   "cell_type": "markdown",
   "metadata": {},
   "source": [
    "Load dataset"
   ]
  },
  {
   "cell_type": "code",
   "execution_count": 20,
   "metadata": {},
   "outputs": [],
   "source": [
    "# Download and load the training set\n",
    "train_mnist_data = MNIST(root='/Users/gabrieledele', download=True, transform=ToTensor())\n",
    "\n",
    "# Download and load the test set\n",
    "test_mnist_data = MNIST(root='/Users/gabrieledele', train=False, download=True, transform=ToTensor())"
   ]
  },
  {
   "cell_type": "code",
   "execution_count": 21,
   "metadata": {},
   "outputs": [],
   "source": [
    "# Create dataloaders for training and test sets\n",
    "train_dataloader = DataLoader(train_mnist_data, shuffle=True, batch_size=6000)  # Change batch_size around\n",
    "test_dataloader = DataLoader(test_mnist_data, batch_size=1000)  # Change batch_size around"
   ]
  },
  {
   "cell_type": "code",
   "execution_count": 22,
   "metadata": {},
   "outputs": [],
   "source": [
    "X_train, y_train = next(iter(train_dataloader))\n",
    "X_test, y_test = next(iter(test_dataloader))"
   ]
  },
  {
   "cell_type": "markdown",
   "metadata": {},
   "source": [
    "Make sure everything's fine with training and testing datasets"
   ]
  },
  {
   "cell_type": "code",
   "execution_count": 23,
   "metadata": {},
   "outputs": [
    {
     "data": {
      "image/png": "[encoded data removed]",
      "text/plain": [
       "<Figure size 1200x600 with 5 Axes>"
      ]
     },
     "metadata": {},
     "output_type": "display_data"
    },
    {
     "data": {
      "image/png": "[encoded data removed]",
      "text/plain": [
       "<Figure size 1200x600 with 5 Axes>"
      ]
     },
     "metadata": {},
     "output_type": "display_data"
    }
   ],
   "source": [
    "# Function to show images\n",
    "def show_images(images, labels, title=\"Images\"):\n",
    "    plt.figure(figsize=(12, 6))\n",
    "    for i in range(min(5, len(images))):  # Display up to 5 images\n",
    "        plt.subplot(1, 5, i + 1)\n",
    "        plt.imshow(images[i].squeeze(), cmap='gray')\n",
    "        plt.title(f\"Label: {labels[i]}\")\n",
    "        plt.axis('off')\n",
    "    plt.suptitle(title)\n",
    "    plt.show()\n",
    "\n",
    "# Convert tensor to numpy array\n",
    "X_train_numpy = X_train.numpy()\n",
    "X_test_numpy = X_test.numpy()\n",
    "\n",
    "# Show samples from the training set\n",
    "show_images(X_train_numpy, y_train, title=\"Training Set Samples\")\n",
    "\n",
    "# Show samples from the test set\n",
    "show_images(X_test_numpy, y_test, title=\"Test Set Samples\")\n"
   ]
  },
  {
   "cell_type": "code",
   "execution_count": 24,
   "metadata": {},
   "outputs": [],
   "source": [
    "# assemble initial data\n",
    "n_initial = 2000\n",
    "initial_idx = np.random.choice(range(len(X_train)), size=n_initial, replace=False)\n",
    "X_initial = X_train[initial_idx]\n",
    "y_initial = y_train[initial_idx]"
   ]
  },
  {
   "cell_type": "code",
   "execution_count": 25,
   "metadata": {},
   "outputs": [],
   "source": [
    "# generate the pool\n",
    "# remove the initial data from the training dataset\n",
    "X_pool = np.delete(X_train, initial_idx, axis=0)\n",
    "y_pool = np.delete(y_train, initial_idx, axis=0)"
   ]
  },
  {
   "cell_type": "markdown",
   "metadata": {},
   "source": [
    "## Model"
   ]
  },
  {
   "cell_type": "markdown",
   "metadata": {},
   "source": [
    "Model used"
   ]
  },
  {
   "cell_type": "markdown",
   "metadata": {},
   "source": [
    "ok so ive tried with 2 and 4 conv layers too.\n",
    "- 2 conv layers: started with (1,32,3)\n",
    "- 4 conv layers: started with (1,16,3) and (1,8,3)...\n",
    "- I also tried with 3 conv layers and now im getting a great performance so ill stick to this architecture. doesnt seem that bad. i mean it aint deep but for classifying digits that are simple and grayscale, this is perfect\n",
    "\n",
    "- first tried with 0.5 dropout, great results (95.1)\n",
    "- decided to try wih 0.6 dropout, even tho on the web they suggest max 0.5, lower results but still promising (92.3). second run of training so very little improvement. lets see with third run. no girl this shit aint going nowhere with 0.6.. might go back to 0.5"
   ]
  },
  {
   "cell_type": "code",
   "execution_count": 26,
   "metadata": {},
   "outputs": [],
   "source": [
    "# Standard Pytorch Model (Visit the PyTorch documentation for more details)\n",
    "class Torch_Model(nn.Module):\n",
    "    def __init__(self,):\n",
    "        super(Torch_Model, self).__init__()\n",
    "        self.convs = nn.Sequential(\n",
    "            nn.Conv2d(1, 16, 3),\n",
    "            nn.ReLU(),\n",
    "            nn.Dropout2d(0.6),\n",
    "            nn.Conv2d(16, 32, 3),\n",
    "            nn.ReLU(),\n",
    "            nn.MaxPool2d(2),\n",
    "            #nn.Dropout(0.5)\n",
    "            nn.Dropout2d(0.6),\n",
    "            nn.Conv2d(32, 64, 3),  # Input channels: 64, Output channels: 128, Kernel size: 3x3, Padding: 1\n",
    "            nn.ReLU(),\n",
    "            nn.MaxPool2d(2),  # Max pooling with kernel size 2x2 and default stride\n",
    "            nn.Dropout2d(0.6)\n",
    "        )\n",
    "        \n",
    "        self.fcs = nn.Sequential(\n",
    "            nn.Linear(5*5*64, 128),\n",
    "            nn.ReLU(),\n",
    "            nn.Dropout(0.6),\n",
    "            nn.Linear(128, 10),\n",
    "        )\n",
    "        self.input_dropout = nn.Dropout(0.8)\n",
    "    def forward(self, x):\n",
    "        x = self.input_dropout(x)\n",
    "        out = self.convs(x)\n",
    "        out = out.view(-1, 5*5*64)\n",
    "        out = self.fcs(out)\n",
    "        return out"
   ]
  },
  {
   "cell_type": "markdown",
   "metadata": {},
   "source": [
    "Create an instance of model"
   ]
  },
  {
   "cell_type": "code",
   "execution_count": 27,
   "metadata": {},
   "outputs": [],
   "source": [
    "torch_model = Torch_Model()"
   ]
  },
  {
   "cell_type": "markdown",
   "metadata": {},
   "source": [
    "idk this, prolly wont be used"
   ]
  },
  {
   "cell_type": "code",
   "execution_count": 28,
   "metadata": {},
   "outputs": [],
   "source": [
    "#layer_list = list(torch_model.modules())"
   ]
  },
  {
   "cell_type": "markdown",
   "metadata": {},
   "source": [
    "Set to gpu or cpu if not available"
   ]
  },
  {
   "cell_type": "code",
   "execution_count": 29,
   "metadata": {},
   "outputs": [
    {
     "data": {
      "text/plain": [
       "True"
      ]
     },
     "execution_count": 29,
     "metadata": {},
     "output_type": "execute_result"
    }
   ],
   "source": [
    "torch.backends.mps.is_available()"
   ]
  },
  {
   "cell_type": "code",
   "execution_count": 30,
   "metadata": {},
   "outputs": [
    {
     "name": "stdout",
     "output_type": "stream",
     "text": [
      "mps\n"
     ]
    }
   ],
   "source": [
    "device = \"mps\" if torch.backends.mps.is_available() else \"cpu\"\n",
    "print(device)"
   ]
  },
  {
   "cell_type": "markdown",
   "metadata": {},
   "source": [
    "NNClassifier to wrap PyTorch model"
   ]
  },
  {
   "cell_type": "code",
   "execution_count": 31,
   "metadata": {},
   "outputs": [],
   "source": [
    "classifier = NeuralNetClassifier(Torch_Model,\n",
    "                                 max_epochs=20,\n",
    "                                 criterion=torch.nn.CrossEntropyLoss,\n",
    "                                 optimizer=torch.optim.SGD,\n",
    "                                 lr=0.1,\n",
    "                                 train_split=None,\n",
    "                                 verbose=1,\n",
    "                                 device=device)"
   ]
  },
  {
   "cell_type": "markdown",
   "metadata": {},
   "source": [
    "## ActiveLearning Loop"
   ]
  },
  {
   "cell_type": "code",
   "execution_count": 32,
   "metadata": {},
   "outputs": [
    {
     "name": "stdout",
     "output_type": "stream",
     "text": [
      "  epoch    train_loss     dur\n",
      "-------  ------------  ------\n",
      "      1        \u001b[36m2.2916\u001b[0m  0.5713\n",
      "      2        \u001b[36m2.1764\u001b[0m  0.6107\n",
      "      3        \u001b[36m1.9755\u001b[0m  0.6074\n",
      "      4        \u001b[36m1.7619\u001b[0m  0.5246\n",
      "      5        \u001b[36m1.6130\u001b[0m  0.5637\n",
      "      6        \u001b[36m1.4704\u001b[0m  0.4655\n",
      "      7        \u001b[36m1.3765\u001b[0m  0.2949\n",
      "      8        \u001b[36m1.2778\u001b[0m  0.2803\n",
      "      9        \u001b[36m1.2654\u001b[0m  0.2919\n",
      "     10        \u001b[36m1.1629\u001b[0m  0.2850\n",
      "     11        \u001b[36m1.1577\u001b[0m  0.2823\n",
      "     12        \u001b[36m1.1322\u001b[0m  0.2814\n",
      "     13        \u001b[36m1.0873\u001b[0m  0.2872\n",
      "     14        \u001b[36m1.0798\u001b[0m  0.2878\n",
      "     15        \u001b[36m1.0298\u001b[0m  0.2855\n",
      "     16        \u001b[36m1.0227\u001b[0m  0.2821\n",
      "     17        \u001b[36m0.9924\u001b[0m  0.2809\n",
      "     18        \u001b[36m0.9725\u001b[0m  0.2831\n",
      "     19        0.9780  0.2838\n",
      "     20        \u001b[36m0.9712\u001b[0m  0.2809\n",
      "Score from sklearn: 0.76825\n"
     ]
    }
   ],
   "source": [
    "learner = DeepActiveLearner(\n",
    "    estimator=classifier,\n",
    "    query_strategy=uncertainty_sampling # mc_dropout_bald,\n",
    ")\n",
    "\n",
    "# initial teaching, not necessary, without AL framework\n",
    "learner.teach(X_initial, y_initial)\n",
    "\n",
    "print(\"Score from sklearn: {}\".format(learner.score(X_pool, y_pool)))"
   ]
  },
  {
   "cell_type": "code",
   "execution_count": 33,
   "metadata": {},
   "outputs": [
    {
     "data": {
      "text/plain": [
       "' from torchviz import make_dot\\n# Create an instance of your model\\ntorch_model = Torch_Model()\\n\\n# Dummy input (adjust the size as needed)\\ndummy_input = torch.randn(1, 1, 28, 28)\\n\\n# Pass the dummy input through the model\\noutput = torch_model(dummy_input)\\n\\n# Visualize the architecture\\ndot = make_dot(output, params=dict(torch_model.named_parameters()))\\ndot.render(\"cnn_architecture\", format=\"png\", cleanup=True)\\n'"
      ]
     },
     "execution_count": 33,
     "metadata": {},
     "output_type": "execute_result"
    }
   ],
   "source": [
    "''' from torchviz import make_dot\n",
    "# Create an instance of your model\n",
    "torch_model = Torch_Model()\n",
    "\n",
    "# Dummy input (adjust the size as needed)\n",
    "dummy_input = torch.randn(1, 1, 28, 28)\n",
    "\n",
    "# Pass the dummy input through the model\n",
    "output = torch_model(dummy_input)\n",
    "\n",
    "# Visualize the architecture\n",
    "dot = make_dot(output, params=dict(torch_model.named_parameters()))\n",
    "dot.render(\"cnn_architecture\", format=\"png\", cleanup=True)\n",
    "'''"
   ]
  },
  {
   "cell_type": "markdown",
   "metadata": {},
   "source": [
    "The loop"
   ]
  },
  {
   "cell_type": "code",
   "execution_count": 34,
   "metadata": {},
   "outputs": [],
   "source": [
    "# the active learning loop\n",
    "n_queries = 15\n",
    "X_teach = X_initial\n",
    "y_teach = y_initial"
   ]
  },
  {
   "cell_type": "code",
   "execution_count": 37,
   "metadata": {},
   "outputs": [
    {
     "data": {
      "text/html": [
       "Tracking run with wandb version 0.16.1"
      ],
      "text/plain": [
       "<IPython.core.display.HTML object>"
      ]
     },
     "metadata": {},
     "output_type": "display_data"
    },
    {
     "data": {
      "text/html": [
       "Run data is saved locally in <code>/Users/gabrieledele/Desktop/wandb/run-20231224_193802-pxnseqkt</code>"
      ],
      "text/plain": [
       "<IPython.core.display.HTML object>"
      ]
     },
     "metadata": {},
     "output_type": "display_data"
    },
    {
     "data": {
      "text/html": [
       "Syncing run <strong><a href='https://wandb.ai/gabriele-deleonardis/24.12%4012.15/runs/pxnseqkt' target=\"_blank\">dark-sun-13</a></strong> to <a href='https://wandb.ai/gabriele-deleonardis/24.12%4012.15' target=\"_blank\">Weights & Biases</a> (<a href='https://wandb.me/run' target=\"_blank\">docs</a>)<br/>"
      ],
      "text/plain": [
       "<IPython.core.display.HTML object>"
      ]
     },
     "metadata": {},
     "output_type": "display_data"
    },
    {
     "data": {
      "text/html": [
       " View project at <a href='https://wandb.ai/gabriele-deleonardis/24.12%4012.15' target=\"_blank\">https://wandb.ai/gabriele-deleonardis/24.12%4012.15</a>"
      ],
      "text/plain": [
       "<IPython.core.display.HTML object>"
      ]
     },
     "metadata": {},
     "output_type": "display_data"
    },
    {
     "data": {
      "text/html": [
       " View run at <a href='https://wandb.ai/gabriele-deleonardis/24.12%4012.15/runs/pxnseqkt' target=\"_blank\">https://wandb.ai/gabriele-deleonardis/24.12%4012.15/runs/pxnseqkt</a>"
      ],
      "text/plain": [
       "<IPython.core.display.HTML object>"
      ]
     },
     "metadata": {},
     "output_type": "display_data"
    },
    {
     "name": "stdout",
     "output_type": "stream",
     "text": [
      "Query no. 1\n",
      "    621        0.4617  1.2793\n",
      "    622        0.4734  0.6890\n",
      "    623        0.4768  0.9884\n",
      "    624        0.4845  0.7523\n",
      "    625        0.4674  0.8792\n",
      "    626        \u001b[36m0.4479\u001b[0m  0.9481\n",
      "    627        0.4585  0.8574\n",
      "    628        0.4741  0.8225\n",
      "    629        0.4859  0.8090\n",
      "    630        0.4651  0.7080\n",
      "    631        0.4610  0.8102\n",
      "    632        0.4533  0.7287\n",
      "    633        0.4656  0.8755\n",
      "    634        0.4714  0.9564\n",
      "    635        0.4779  0.8507\n",
      "    636        0.4601  0.8644\n",
      "    637        0.4579  0.7673\n",
      "    638        0.4686  0.7768\n",
      "    639        0.4639  0.6956\n",
      "    640        0.4732  0.8440\n",
      "Model score: 0.918\n",
      "Query no. 2\n",
      "    641        0.4923  0.8299\n",
      "    642        0.4696  0.7679\n",
      "    643        0.4723  0.8877\n",
      "    644        0.4883  0.8144\n",
      "    645        0.4833  0.7254\n",
      "    646        0.4669  0.6995\n",
      "    647        0.4633  0.7458\n",
      "    648        0.4783  0.7722\n",
      "    649        0.4537  0.7882\n",
      "    650        0.4629  0.7338\n",
      "    651        \u001b[36m0.4399\u001b[0m  0.7891\n",
      "    652        0.4438  0.7042\n",
      "    653        0.4669  0.7478\n",
      "    654        0.4648  0.9128\n",
      "    655        0.4730  0.7391\n",
      "    656        0.4524  0.8253\n",
      "    657        0.4715  0.9388\n",
      "    658        \u001b[36m0.4313\u001b[0m  0.7538\n",
      "    659        0.4689  0.8987\n",
      "    660        0.4722  0.8859\n",
      "Model score: 0.921\n",
      "Query no. 3\n",
      "    661        0.4720  1.2137\n",
      "    662        0.4700  0.7884\n",
      "    663        0.4416  0.8285\n",
      "    664        0.4673  0.6900\n",
      "    665        0.4353  0.9424\n",
      "    666        0.4436  0.8487\n",
      "    667        0.4573  0.7244\n",
      "    668        0.4388  0.7280\n",
      "    669        0.4689  0.8444\n",
      "    670        0.4496  0.7385\n",
      "    671        0.4430  0.6878\n",
      "    672        0.4444  0.9052\n",
      "    673        0.4486  1.0406\n",
      "    674        0.4541  0.7186\n",
      "    675        0.4537  0.7312\n",
      "    676        0.4601  0.7382\n",
      "    677        \u001b[36m0.4258\u001b[0m  0.8357\n",
      "    678        0.4469  0.7665\n",
      "    679        0.4605  0.7730\n",
      "    680        0.4469  0.7285\n",
      "Model score: 0.91\n",
      "Query no. 4\n",
      "    681        0.4788  0.7460\n",
      "    682        0.4576  0.8093\n",
      "    683        0.4511  0.6928\n",
      "    684        0.4541  0.8645\n",
      "    685        0.4315  1.2608\n",
      "    686        0.4564  1.5194\n",
      "    687        \u001b[36m0.4220\u001b[0m  1.1861\n",
      "    688        0.4504  1.1195\n",
      "    689        0.4456  0.8984\n",
      "    690        0.4531  0.8817\n",
      "    691        0.4327  0.7879\n",
      "    692        0.4495  0.9883\n",
      "    693        0.4490  0.9360\n",
      "    694        0.4453  0.8819\n",
      "    695        0.4493  0.9019\n",
      "    696        0.4420  0.9239\n",
      "    697        0.4458  0.9952\n",
      "    698        0.4542  0.9027\n",
      "    699        0.4496  0.7717\n",
      "    700        0.4310  0.7937\n",
      "Model score: 0.914\n",
      "Query no. 5\n",
      "    701        0.4368  0.7658\n",
      "    702        0.4497  0.7579\n",
      "    703        0.4565  0.7839\n",
      "    704        0.4279  0.7773\n",
      "    705        0.4249  0.7472\n",
      "    706        0.4254  0.7303\n",
      "    707        0.4520  0.7935\n",
      "    708        0.4458  0.7388\n",
      "    709        0.4448  0.7876\n",
      "    710        0.4396  1.1135\n",
      "    711        0.4562  0.9056\n",
      "    712        0.4446  0.8095\n",
      "    713        0.4491  0.8535\n",
      "    714        0.4356  0.7122\n",
      "    715        0.4384  0.7510\n",
      "    716        0.4247  0.7613\n",
      "    717        0.4517  0.7024\n",
      "    718        0.4523  0.7261\n",
      "    719        0.4236  0.7927\n",
      "    720        0.4368  0.7966\n",
      "Model score: 0.915\n",
      "Query no. 6\n",
      "    721        0.4261  0.7761\n",
      "    722        \u001b[36m0.4208\u001b[0m  0.8550\n",
      "    723        0.4223  0.8056\n",
      "    724        0.4314  0.7473\n",
      "    725        0.4366  0.9372\n",
      "    726        0.4319  0.8574\n",
      "    727        \u001b[36m0.4162\u001b[0m  1.0996\n",
      "    728        0.4191  0.7820\n",
      "    729        \u001b[36m0.4154\u001b[0m  0.7395\n",
      "    730        0.4308  0.7138\n",
      "    731        0.4280  0.8193\n",
      "    732        0.4257  0.7303\n",
      "    733        0.4283  0.7424\n",
      "    734        0.4352  0.8081\n",
      "    735        0.4214  0.8590\n",
      "    736        0.4336  0.8492\n",
      "    737        0.4360  0.8862\n",
      "    738        0.4235  0.7728\n",
      "    739        0.4245  0.7254\n",
      "    740        0.4299  0.7695\n",
      "Model score: 0.917\n",
      "Query no. 7\n",
      "    741        0.4275  1.0717\n",
      "    742        0.4181  0.9227\n",
      "    743        0.4221  1.0495\n",
      "    744        0.4301  1.1121\n",
      "    745        0.4196  1.0158\n",
      "    746        0.4230  1.1254\n",
      "    747        0.4219  1.1791\n",
      "    748        0.4300  0.9166\n",
      "    749        0.4231  0.8944\n",
      "    750        0.4171  0.9334\n",
      "    751        0.4245  0.9144\n",
      "    752        0.4266  1.2529\n",
      "    753        0.4215  1.2195\n",
      "    754        0.4318  1.1306\n",
      "    755        0.4158  0.8592\n",
      "    756        \u001b[36m0.4123\u001b[0m  0.7470\n",
      "    757        0.4239  0.8215\n",
      "    758        0.4345  0.7849\n",
      "    759        \u001b[36m0.4038\u001b[0m  0.7553\n",
      "    760        0.4046  0.7343\n",
      "Model score: 0.916\n",
      "Query no. 8\n",
      "    761        0.4305  1.1660\n",
      "    762        0.4131  0.7924\n",
      "    763        0.4319  0.9558\n",
      "    764        0.4129  0.9366\n",
      "    765        0.4132  0.7928\n",
      "    766        0.4404  0.7587\n",
      "    767        0.4262  0.8771\n",
      "    768        0.4274  0.7579\n",
      "    769        0.4212  0.7485\n",
      "    770        0.4406  0.8234\n",
      "    771        0.4143  1.1211\n",
      "    772        0.4071  0.9417\n",
      "    773        0.4085  0.9452\n",
      "    774        0.4058  0.8180\n",
      "    775        0.4120  0.9127\n",
      "    776        0.4328  1.3350\n",
      "    777        0.4279  0.9236\n",
      "    778        0.4088  0.8652\n",
      "    779        0.4124  0.7734\n",
      "    780        \u001b[36m0.4015\u001b[0m  0.7762\n",
      "Model score: 0.912\n",
      "Query no. 9\n",
      "    781        0.4065  0.9051\n",
      "    782        0.4044  1.1983\n",
      "    783        0.4148  1.1329\n",
      "    784        0.4075  0.8540\n",
      "    785        0.4157  0.8544\n",
      "    786        0.4073  1.3333\n",
      "    787        0.4186  0.8135\n",
      "    788        \u001b[36m0.4003\u001b[0m  0.8294\n",
      "    789        \u001b[36m0.3982\u001b[0m  0.7796\n",
      "    790        0.4132  0.8518\n",
      "    791        0.4123  1.1020\n",
      "    792        0.4115  0.9649\n",
      "    793        0.4323  1.3889\n",
      "    794        0.4105  1.5860\n",
      "    795        0.4084  1.0115\n",
      "    796        0.4230  0.9045\n",
      "    797        0.4179  1.0266\n",
      "    798        0.4240  1.1095\n",
      "    799        0.4040  0.8452\n",
      "    800        0.4119  1.0376\n",
      "Model score: 0.919\n",
      "Query no. 10\n",
      "    801        0.4094  0.9671\n",
      "    802        0.4100  0.9073\n",
      "    803        0.4024  1.0524\n",
      "    804        0.4045  0.8383\n",
      "    805        \u001b[36m0.3929\u001b[0m  0.9684\n",
      "    806        0.4085  0.9185\n",
      "    807        0.3956  0.8027\n",
      "    808        0.4049  0.8277\n",
      "    809        0.4139  0.9880\n",
      "    810        0.4024  0.9340\n",
      "    811        \u001b[36m0.3838\u001b[0m  1.0583\n",
      "    812        0.3931  0.9783\n",
      "    813        0.4257  0.8721\n",
      "    814        0.4195  0.8992\n",
      "    815        0.3908  0.8065\n",
      "    816        0.4179  1.4095\n",
      "    817        0.3985  0.8253\n",
      "    818        0.3871  0.7769\n",
      "    819        0.3883  1.0639\n",
      "    820        0.3988  0.9345\n",
      "Model score: 0.921\n",
      "Query no. 11\n"
     ]
    },
    {
     "ename": "ValueError",
     "evalue": "need at least one array to concatenate",
     "output_type": "error",
     "traceback": [
      "\u001b[0;31m---------------------------------------------------------------------------\u001b[0m",
      "\u001b[0;31mValueError\u001b[0m                                Traceback (most recent call last)",
      "File \u001b[0;32m~/miniforge3/envs/mlproj/lib/python3.9/site-packages/modAL/models/base.py:175\u001b[0m, in \u001b[0;36mBaseLearner.query\u001b[0;34m(self, X_pool, return_metrics, *query_args, **query_kwargs)\u001b[0m\n\u001b[1;32m    174\u001b[0m \u001b[38;5;28;01mtry\u001b[39;00m:\n\u001b[0;32m--> 175\u001b[0m     query_result, query_metrics \u001b[38;5;241m=\u001b[39m \u001b[38;5;28;43mself\u001b[39;49m\u001b[38;5;241;43m.\u001b[39;49m\u001b[43mquery_strategy\u001b[49m\u001b[43m(\u001b[49m\n\u001b[1;32m    176\u001b[0m \u001b[43m        \u001b[49m\u001b[38;5;28;43mself\u001b[39;49m\u001b[43m,\u001b[49m\u001b[43m \u001b[49m\u001b[43mX_pool\u001b[49m\u001b[43m,\u001b[49m\u001b[43m \u001b[49m\u001b[38;5;241;43m*\u001b[39;49m\u001b[43mquery_args\u001b[49m\u001b[43m,\u001b[49m\u001b[43m \u001b[49m\u001b[38;5;241;43m*\u001b[39;49m\u001b[38;5;241;43m*\u001b[39;49m\u001b[43mquery_kwargs\u001b[49m\u001b[43m)\u001b[49m\n\u001b[1;32m    178\u001b[0m \u001b[38;5;28;01mexcept\u001b[39;00m:\n",
      "File \u001b[0;32m~/miniforge3/envs/mlproj/lib/python3.9/site-packages/modAL/uncertainty.py:152\u001b[0m, in \u001b[0;36muncertainty_sampling\u001b[0;34m(classifier, X, n_instances, random_tie_break, **uncertainty_measure_kwargs)\u001b[0m\n\u001b[1;32m    136\u001b[0m \u001b[38;5;250m\u001b[39m\u001b[38;5;124;03m\"\"\"\u001b[39;00m\n\u001b[1;32m    137\u001b[0m \u001b[38;5;124;03mUncertainty sampling query strategy. Selects the least sure instances for labelling.\u001b[39;00m\n\u001b[1;32m    138\u001b[0m \n\u001b[0;32m   (...)\u001b[0m\n\u001b[1;32m    150\u001b[0m \u001b[38;5;124;03m    The uncertainty metric of the chosen instances. \u001b[39;00m\n\u001b[1;32m    151\u001b[0m \u001b[38;5;124;03m\"\"\"\u001b[39;00m\n\u001b[0;32m--> 152\u001b[0m uncertainty \u001b[38;5;241m=\u001b[39m \u001b[43mclassifier_uncertainty\u001b[49m\u001b[43m(\u001b[49m\u001b[43mclassifier\u001b[49m\u001b[43m,\u001b[49m\u001b[43m \u001b[49m\u001b[43mX\u001b[49m\u001b[43m,\u001b[49m\u001b[43m \u001b[49m\u001b[38;5;241;43m*\u001b[39;49m\u001b[38;5;241;43m*\u001b[39;49m\u001b[43muncertainty_measure_kwargs\u001b[49m\u001b[43m)\u001b[49m\n\u001b[1;32m    154\u001b[0m \u001b[38;5;28;01mif\u001b[39;00m \u001b[38;5;129;01mnot\u001b[39;00m random_tie_break:\n",
      "File \u001b[0;32m~/miniforge3/envs/mlproj/lib/python3.9/site-packages/modAL/uncertainty.py:77\u001b[0m, in \u001b[0;36mclassifier_uncertainty\u001b[0;34m(classifier, X, **predict_proba_kwargs)\u001b[0m\n\u001b[1;32m     76\u001b[0m \u001b[38;5;28;01mtry\u001b[39;00m:\n\u001b[0;32m---> 77\u001b[0m     classwise_uncertainty \u001b[38;5;241m=\u001b[39m \u001b[43mclassifier\u001b[49m\u001b[38;5;241;43m.\u001b[39;49m\u001b[43mpredict_proba\u001b[49m\u001b[43m(\u001b[49m\u001b[43mX\u001b[49m\u001b[43m,\u001b[49m\u001b[43m \u001b[49m\u001b[38;5;241;43m*\u001b[39;49m\u001b[38;5;241;43m*\u001b[39;49m\u001b[43mpredict_proba_kwargs\u001b[49m\u001b[43m)\u001b[49m\n\u001b[1;32m     78\u001b[0m \u001b[38;5;28;01mexcept\u001b[39;00m NotFittedError:\n",
      "File \u001b[0;32m~/miniforge3/envs/mlproj/lib/python3.9/site-packages/modAL/models/base.py:153\u001b[0m, in \u001b[0;36mBaseLearner.predict_proba\u001b[0;34m(self, X, **predict_proba_kwargs)\u001b[0m\n\u001b[1;32m    143\u001b[0m \u001b[38;5;250m\u001b[39m\u001b[38;5;124;03m\"\"\"\u001b[39;00m\n\u001b[1;32m    144\u001b[0m \u001b[38;5;124;03mClass probabilities if the predictor is a classifier. Interface with the predict_proba method of the classifier.\u001b[39;00m\n\u001b[1;32m    145\u001b[0m \n\u001b[0;32m   (...)\u001b[0m\n\u001b[1;32m    151\u001b[0m \u001b[38;5;124;03m    Class probabilities for X.\u001b[39;00m\n\u001b[1;32m    152\u001b[0m \u001b[38;5;124;03m\"\"\"\u001b[39;00m\n\u001b[0;32m--> 153\u001b[0m \u001b[38;5;28;01mreturn\u001b[39;00m \u001b[38;5;28;43mself\u001b[39;49m\u001b[38;5;241;43m.\u001b[39;49m\u001b[43mestimator\u001b[49m\u001b[38;5;241;43m.\u001b[39;49m\u001b[43mpredict_proba\u001b[49m\u001b[43m(\u001b[49m\u001b[43mX\u001b[49m\u001b[43m,\u001b[49m\u001b[43m \u001b[49m\u001b[38;5;241;43m*\u001b[39;49m\u001b[38;5;241;43m*\u001b[39;49m\u001b[43mpredict_proba_kwargs\u001b[49m\u001b[43m)\u001b[49m\n",
      "File \u001b[0;32m~/miniforge3/envs/mlproj/lib/python3.9/site-packages/skorch/classifier.py:177\u001b[0m, in \u001b[0;36mNeuralNetClassifier.predict_proba\u001b[0;34m(self, X)\u001b[0m\n\u001b[1;32m    175\u001b[0m \u001b[38;5;66;03m# Only the docstring changed from parent.\u001b[39;00m\n\u001b[1;32m    176\u001b[0m \u001b[38;5;66;03m# pylint: disable=useless-super-delegation\u001b[39;00m\n\u001b[0;32m--> 177\u001b[0m \u001b[38;5;28;01mreturn\u001b[39;00m \u001b[38;5;28;43msuper\u001b[39;49m\u001b[43m(\u001b[49m\u001b[43m)\u001b[49m\u001b[38;5;241;43m.\u001b[39;49m\u001b[43mpredict_proba\u001b[49m\u001b[43m(\u001b[49m\u001b[43mX\u001b[49m\u001b[43m)\u001b[49m\n",
      "File \u001b[0;32m~/miniforge3/envs/mlproj/lib/python3.9/site-packages/skorch/net.py:1126\u001b[0m, in \u001b[0;36mNeuralNet.predict_proba\u001b[0;34m(self, X)\u001b[0m\n\u001b[1;32m   1125\u001b[0m     y_probas\u001b[38;5;241m.\u001b[39mappend(to_numpy(yp))\n\u001b[0;32m-> 1126\u001b[0m y_proba \u001b[38;5;241m=\u001b[39m \u001b[43mnp\u001b[49m\u001b[38;5;241;43m.\u001b[39;49m\u001b[43mconcatenate\u001b[49m\u001b[43m(\u001b[49m\u001b[43my_probas\u001b[49m\u001b[43m,\u001b[49m\u001b[43m \u001b[49m\u001b[38;5;241;43m0\u001b[39;49m\u001b[43m)\u001b[49m\n\u001b[1;32m   1127\u001b[0m \u001b[38;5;28;01mreturn\u001b[39;00m y_proba\n",
      "\u001b[0;31mValueError\u001b[0m: need at least one array to concatenate",
      "\nDuring handling of the above exception, another exception occurred:\n",
      "\u001b[0;31mValueError\u001b[0m                                Traceback (most recent call last)",
      "Cell \u001b[0;32mIn[37], line 16\u001b[0m\n\u001b[1;32m     11\u001b[0m \u001b[38;5;28mprint\u001b[39m(\u001b[38;5;124m'\u001b[39m\u001b[38;5;124mQuery no. \u001b[39m\u001b[38;5;132;01m%d\u001b[39;00m\u001b[38;5;124m'\u001b[39m \u001b[38;5;241m%\u001b[39m (idx \u001b[38;5;241m+\u001b[39m \u001b[38;5;241m1\u001b[39m))\n\u001b[1;32m     12\u001b[0m \u001b[38;5;250m\u001b[39m\u001b[38;5;124;03m\"\"\"\u001b[39;00m\n\u001b[1;32m     13\u001b[0m \u001b[38;5;124;03m    Query new data (num_cycles are the number of dropout forward passes that should be performed)\u001b[39;00m\n\u001b[1;32m     14\u001b[0m \u001b[38;5;124;03m    --> check the documentation of mc_dropout_bald in modAL/dropout.py to see all available parameters\u001b[39;00m\n\u001b[1;32m     15\u001b[0m \u001b[38;5;124;03m\"\"\"\u001b[39;00m\n\u001b[0;32m---> 16\u001b[0m query_idx, metric_values \u001b[38;5;241m=\u001b[39m \u001b[43mlearner\u001b[49m\u001b[38;5;241;43m.\u001b[39;49m\u001b[43mquery\u001b[49m\u001b[43m(\u001b[49m\n\u001b[1;32m     17\u001b[0m \u001b[43m    \u001b[49m\u001b[43mX_pool\u001b[49m\u001b[43m,\u001b[49m\u001b[43m \u001b[49m\u001b[43mn_instances\u001b[49m\u001b[38;5;241;43m=\u001b[39;49m\u001b[38;5;241;43m100\u001b[39;49m\u001b[43m)\u001b[49m \u001b[38;5;66;03m#dropout_layer_indexes=[7, 11], num_cycles=10)\u001b[39;00m\n\u001b[1;32m     18\u001b[0m \u001b[38;5;66;03m# Add queried instances\u001b[39;00m\n\u001b[1;32m     19\u001b[0m X_teach \u001b[38;5;241m=\u001b[39m torch\u001b[38;5;241m.\u001b[39mcat((X_teach, X_pool[query_idx]))\n",
      "File \u001b[0;32m~/miniforge3/envs/mlproj/lib/python3.9/site-packages/modAL/models/base.py:180\u001b[0m, in \u001b[0;36mBaseLearner.query\u001b[0;34m(self, X_pool, return_metrics, *query_args, **query_kwargs)\u001b[0m\n\u001b[1;32m    178\u001b[0m \u001b[38;5;28;01mexcept\u001b[39;00m:\n\u001b[1;32m    179\u001b[0m     query_metrics \u001b[38;5;241m=\u001b[39m \u001b[38;5;28;01mNone\u001b[39;00m\n\u001b[0;32m--> 180\u001b[0m     query_result \u001b[38;5;241m=\u001b[39m \u001b[38;5;28;43mself\u001b[39;49m\u001b[38;5;241;43m.\u001b[39;49m\u001b[43mquery_strategy\u001b[49m\u001b[43m(\u001b[49m\n\u001b[1;32m    181\u001b[0m \u001b[43m        \u001b[49m\u001b[38;5;28;43mself\u001b[39;49m\u001b[43m,\u001b[49m\u001b[43m \u001b[49m\u001b[43mX_pool\u001b[49m\u001b[43m,\u001b[49m\u001b[43m \u001b[49m\u001b[38;5;241;43m*\u001b[39;49m\u001b[43mquery_args\u001b[49m\u001b[43m,\u001b[49m\u001b[43m \u001b[49m\u001b[38;5;241;43m*\u001b[39;49m\u001b[38;5;241;43m*\u001b[39;49m\u001b[43mquery_kwargs\u001b[49m\u001b[43m)\u001b[49m\n\u001b[1;32m    183\u001b[0m \u001b[38;5;28;01mif\u001b[39;00m return_metrics:\n\u001b[1;32m    184\u001b[0m     \u001b[38;5;28;01mif\u001b[39;00m query_metrics \u001b[38;5;129;01mis\u001b[39;00m \u001b[38;5;28;01mNone\u001b[39;00m: \n",
      "File \u001b[0;32m~/miniforge3/envs/mlproj/lib/python3.9/site-packages/modAL/uncertainty.py:152\u001b[0m, in \u001b[0;36muncertainty_sampling\u001b[0;34m(classifier, X, n_instances, random_tie_break, **uncertainty_measure_kwargs)\u001b[0m\n\u001b[1;32m    133\u001b[0m \u001b[38;5;28;01mdef\u001b[39;00m \u001b[38;5;21muncertainty_sampling\u001b[39m(classifier: BaseEstimator, X: modALinput,\n\u001b[1;32m    134\u001b[0m                          n_instances: \u001b[38;5;28mint\u001b[39m \u001b[38;5;241m=\u001b[39m \u001b[38;5;241m1\u001b[39m, random_tie_break: \u001b[38;5;28mbool\u001b[39m \u001b[38;5;241m=\u001b[39m \u001b[38;5;28;01mFalse\u001b[39;00m,\n\u001b[1;32m    135\u001b[0m                          \u001b[38;5;241m*\u001b[39m\u001b[38;5;241m*\u001b[39muncertainty_measure_kwargs) \u001b[38;5;241m-\u001b[39m\u001b[38;5;241m>\u001b[39m np\u001b[38;5;241m.\u001b[39mndarray:\n\u001b[1;32m    136\u001b[0m \u001b[38;5;250m    \u001b[39m\u001b[38;5;124;03m\"\"\"\u001b[39;00m\n\u001b[1;32m    137\u001b[0m \u001b[38;5;124;03m    Uncertainty sampling query strategy. Selects the least sure instances for labelling.\u001b[39;00m\n\u001b[1;32m    138\u001b[0m \n\u001b[0;32m   (...)\u001b[0m\n\u001b[1;32m    150\u001b[0m \u001b[38;5;124;03m        The uncertainty metric of the chosen instances. \u001b[39;00m\n\u001b[1;32m    151\u001b[0m \u001b[38;5;124;03m    \"\"\"\u001b[39;00m\n\u001b[0;32m--> 152\u001b[0m     uncertainty \u001b[38;5;241m=\u001b[39m \u001b[43mclassifier_uncertainty\u001b[49m\u001b[43m(\u001b[49m\u001b[43mclassifier\u001b[49m\u001b[43m,\u001b[49m\u001b[43m \u001b[49m\u001b[43mX\u001b[49m\u001b[43m,\u001b[49m\u001b[43m \u001b[49m\u001b[38;5;241;43m*\u001b[39;49m\u001b[38;5;241;43m*\u001b[39;49m\u001b[43muncertainty_measure_kwargs\u001b[49m\u001b[43m)\u001b[49m\n\u001b[1;32m    154\u001b[0m     \u001b[38;5;28;01mif\u001b[39;00m \u001b[38;5;129;01mnot\u001b[39;00m random_tie_break:\n\u001b[1;32m    155\u001b[0m         \u001b[38;5;28;01mreturn\u001b[39;00m multi_argmax(uncertainty, n_instances\u001b[38;5;241m=\u001b[39mn_instances)\n",
      "File \u001b[0;32m~/miniforge3/envs/mlproj/lib/python3.9/site-packages/modAL/uncertainty.py:77\u001b[0m, in \u001b[0;36mclassifier_uncertainty\u001b[0;34m(classifier, X, **predict_proba_kwargs)\u001b[0m\n\u001b[1;32m     75\u001b[0m \u001b[38;5;66;03m# calculate uncertainty for each point provided\u001b[39;00m\n\u001b[1;32m     76\u001b[0m \u001b[38;5;28;01mtry\u001b[39;00m:\n\u001b[0;32m---> 77\u001b[0m     classwise_uncertainty \u001b[38;5;241m=\u001b[39m \u001b[43mclassifier\u001b[49m\u001b[38;5;241;43m.\u001b[39;49m\u001b[43mpredict_proba\u001b[49m\u001b[43m(\u001b[49m\u001b[43mX\u001b[49m\u001b[43m,\u001b[49m\u001b[43m \u001b[49m\u001b[38;5;241;43m*\u001b[39;49m\u001b[38;5;241;43m*\u001b[39;49m\u001b[43mpredict_proba_kwargs\u001b[49m\u001b[43m)\u001b[49m\n\u001b[1;32m     78\u001b[0m \u001b[38;5;28;01mexcept\u001b[39;00m NotFittedError:\n\u001b[1;32m     79\u001b[0m     \u001b[38;5;28;01mreturn\u001b[39;00m np\u001b[38;5;241m.\u001b[39mones(shape\u001b[38;5;241m=\u001b[39m(X\u001b[38;5;241m.\u001b[39mshape[\u001b[38;5;241m0\u001b[39m], ))\n",
      "File \u001b[0;32m~/miniforge3/envs/mlproj/lib/python3.9/site-packages/modAL/models/base.py:153\u001b[0m, in \u001b[0;36mBaseLearner.predict_proba\u001b[0;34m(self, X, **predict_proba_kwargs)\u001b[0m\n\u001b[1;32m    142\u001b[0m \u001b[38;5;28;01mdef\u001b[39;00m \u001b[38;5;21mpredict_proba\u001b[39m(\u001b[38;5;28mself\u001b[39m, X: modALinput, \u001b[38;5;241m*\u001b[39m\u001b[38;5;241m*\u001b[39mpredict_proba_kwargs) \u001b[38;5;241m-\u001b[39m\u001b[38;5;241m>\u001b[39m Any:\n\u001b[1;32m    143\u001b[0m \u001b[38;5;250m    \u001b[39m\u001b[38;5;124;03m\"\"\"\u001b[39;00m\n\u001b[1;32m    144\u001b[0m \u001b[38;5;124;03m    Class probabilities if the predictor is a classifier. Interface with the predict_proba method of the classifier.\u001b[39;00m\n\u001b[1;32m    145\u001b[0m \n\u001b[0;32m   (...)\u001b[0m\n\u001b[1;32m    151\u001b[0m \u001b[38;5;124;03m        Class probabilities for X.\u001b[39;00m\n\u001b[1;32m    152\u001b[0m \u001b[38;5;124;03m    \"\"\"\u001b[39;00m\n\u001b[0;32m--> 153\u001b[0m     \u001b[38;5;28;01mreturn\u001b[39;00m \u001b[38;5;28;43mself\u001b[39;49m\u001b[38;5;241;43m.\u001b[39;49m\u001b[43mestimator\u001b[49m\u001b[38;5;241;43m.\u001b[39;49m\u001b[43mpredict_proba\u001b[49m\u001b[43m(\u001b[49m\u001b[43mX\u001b[49m\u001b[43m,\u001b[49m\u001b[43m \u001b[49m\u001b[38;5;241;43m*\u001b[39;49m\u001b[38;5;241;43m*\u001b[39;49m\u001b[43mpredict_proba_kwargs\u001b[49m\u001b[43m)\u001b[49m\n",
      "File \u001b[0;32m~/miniforge3/envs/mlproj/lib/python3.9/site-packages/skorch/classifier.py:177\u001b[0m, in \u001b[0;36mNeuralNetClassifier.predict_proba\u001b[0;34m(self, X)\u001b[0m\n\u001b[1;32m    145\u001b[0m \u001b[38;5;250m\u001b[39m\u001b[38;5;124;03m\"\"\"Where applicable, return probability estimates for\u001b[39;00m\n\u001b[1;32m    146\u001b[0m \u001b[38;5;124;03msamples.\u001b[39;00m\n\u001b[1;32m    147\u001b[0m \n\u001b[0;32m   (...)\u001b[0m\n\u001b[1;32m    173\u001b[0m \n\u001b[1;32m    174\u001b[0m \u001b[38;5;124;03m\"\"\"\u001b[39;00m\n\u001b[1;32m    175\u001b[0m \u001b[38;5;66;03m# Only the docstring changed from parent.\u001b[39;00m\n\u001b[1;32m    176\u001b[0m \u001b[38;5;66;03m# pylint: disable=useless-super-delegation\u001b[39;00m\n\u001b[0;32m--> 177\u001b[0m \u001b[38;5;28;01mreturn\u001b[39;00m \u001b[38;5;28;43msuper\u001b[39;49m\u001b[43m(\u001b[49m\u001b[43m)\u001b[49m\u001b[38;5;241;43m.\u001b[39;49m\u001b[43mpredict_proba\u001b[49m\u001b[43m(\u001b[49m\u001b[43mX\u001b[49m\u001b[43m)\u001b[49m\n",
      "File \u001b[0;32m~/miniforge3/envs/mlproj/lib/python3.9/site-packages/skorch/net.py:1126\u001b[0m, in \u001b[0;36mNeuralNet.predict_proba\u001b[0;34m(self, X)\u001b[0m\n\u001b[1;32m   1124\u001b[0m     yp \u001b[38;5;241m=\u001b[39m nonlin(yp)\n\u001b[1;32m   1125\u001b[0m     y_probas\u001b[38;5;241m.\u001b[39mappend(to_numpy(yp))\n\u001b[0;32m-> 1126\u001b[0m y_proba \u001b[38;5;241m=\u001b[39m \u001b[43mnp\u001b[49m\u001b[38;5;241;43m.\u001b[39;49m\u001b[43mconcatenate\u001b[49m\u001b[43m(\u001b[49m\u001b[43my_probas\u001b[49m\u001b[43m,\u001b[49m\u001b[43m \u001b[49m\u001b[38;5;241;43m0\u001b[39;49m\u001b[43m)\u001b[49m\n\u001b[1;32m   1127\u001b[0m \u001b[38;5;28;01mreturn\u001b[39;00m y_proba\n",
      "\u001b[0;31mValueError\u001b[0m: need at least one array to concatenate"
     ]
    }
   ],
   "source": [
    "wandb.init(\n",
    "    project=\"24.12@12.15\",\n",
    "    config={\n",
    "        \"batch_size\": 6000,\n",
    "        \"learning_rate\": 0.1,\n",
    "        \"dataset\": \"MNIST\",\n",
    "    },\n",
    ")\n",
    "\n",
    "for idx in range(n_queries):\n",
    "    print('Query no. %d' % (idx + 1))\n",
    "    \"\"\"\n",
    "        Query new data (num_cycles are the number of dropout forward passes that should be performed)\n",
    "        --> check the documentation of mc_dropout_bald in modAL/dropout.py to see all available parameters\n",
    "    \"\"\"\n",
    "    query_idx, metric_values = learner.query(\n",
    "        X_pool, n_instances=100) #dropout_layer_indexes=[7, 11], num_cycles=10)\n",
    "    # Add queried instances\n",
    "    X_teach = torch.cat((X_teach, X_pool[query_idx]))\n",
    "    y_teach = torch.cat((y_teach, y_pool[query_idx]))\n",
    "    learner.teach(X_teach, y_teach)\n",
    "\n",
    "    # remove queried instance from pool\n",
    "    X_pool = np.delete(X_pool, query_idx, axis=0)\n",
    "    y_pool = np.delete(y_pool, query_idx, axis=0)\n",
    "\n",
    "    # give us the model performance\n",
    "    print(\"Model score: {}\".format(learner.score(X_test, y_test)))\n",
    "    wandb.log({\"accuracy\": learner.score(X_test, y_test)*100})\n",
    "wandb.finish()"
   ]
  }
 ],
 "metadata": {
  "kernelspec": {
   "display_name": "mlproj",
   "language": "python",
   "name": "python3"
  },
  "language_info": {
   "codemirror_mode": {
    "name": "ipython",
    "version": 3
   },
   "file_extension": ".py",
   "mimetype": "text/x-python",
   "name": "python",
   "nbconvert_exporter": "python",
   "pygments_lexer": "ipython3",
   "version": "3.9.18"
  }
 },
 "nbformat": 4,
 "nbformat_minor": 2
}
