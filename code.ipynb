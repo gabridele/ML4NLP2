{
 "cells": [
  {
   "cell_type": "markdown",
   "metadata": {},
   "source": [
    "# Task\n",
    "Uncertaintiy Modeling + Interactive Learning:\n",
    "\n",
    "* **Implement** a CNN classifier with dropout layers and modify it so that the dropout layers can be left on during inference.  \n",
    "\n",
    "* Then **compare** the performance of a couple of uncertainty-based query strategies from the modal active learning library against Entropy-based uncertainty sampling based on dropout-enabled inference."
   ]
  },
  {
   "cell_type": "markdown",
   "metadata": {},
   "source": [
    "## First attempt:"
   ]
  },
  {
   "cell_type": "markdown",
   "metadata": {},
   "source": [
    "Code from: https://github.com/modAL-python/modAL"
   ]
  },
  {
   "cell_type": "markdown",
   "metadata": {},
   "source": [
    "Git cloning and installing the library for AL from github"
   ]
  },
  {
   "cell_type": "code",
   "execution_count": null,
   "metadata": {},
   "outputs": [],
   "source": [
    "!git clone https://github.com/modAL-python/modAL\n",
    "\n",
    "%pip install git+https://github.com/modAL-python/modAL.git"
   ]
  },
  {
   "cell_type": "code",
   "execution_count": 2,
   "metadata": {},
   "outputs": [],
   "source": [
    "import modAL"
   ]
  },
  {
   "cell_type": "markdown",
   "metadata": {},
   "source": [
    "### 1. Implement a CNN classifier with dropout layers and modify it so that the dropout layers can be left on during inference."
   ]
  },
  {
   "cell_type": "code",
   "execution_count": 3,
   "metadata": {},
   "outputs": [
    {
     "name": "stdout",
     "output_type": "stream",
     "text": [
      "Requirement already satisfied: torch in /Users/gabrieledele/miniforge3/envs/mlproj/lib/python3.9/site-packages (2.1.0)\n",
      "Requirement already satisfied: filelock in /Users/gabrieledele/miniforge3/envs/mlproj/lib/python3.9/site-packages (from torch) (3.13.1)\n",
      "Requirement already satisfied: typing-extensions in /Users/gabrieledele/miniforge3/envs/mlproj/lib/python3.9/site-packages (from torch) (4.9.0)\n",
      "Requirement already satisfied: sympy in /Users/gabrieledele/miniforge3/envs/mlproj/lib/python3.9/site-packages (from torch) (1.12)\n",
      "Requirement already satisfied: networkx in /Users/gabrieledele/miniforge3/envs/mlproj/lib/python3.9/site-packages (from torch) (3.2.1)\n",
      "Requirement already satisfied: jinja2 in /Users/gabrieledele/miniforge3/envs/mlproj/lib/python3.9/site-packages (from torch) (3.1.2)\n",
      "Requirement already satisfied: fsspec in /Users/gabrieledele/miniforge3/envs/mlproj/lib/python3.9/site-packages (from torch) (2023.12.2)\n",
      "Requirement already satisfied: MarkupSafe>=2.0 in /Users/gabrieledele/miniforge3/envs/mlproj/lib/python3.9/site-packages (from jinja2->torch) (2.1.3)\n",
      "Requirement already satisfied: mpmath>=0.19 in /Users/gabrieledele/miniforge3/envs/mlproj/lib/python3.9/site-packages (from sympy->torch) (1.3.0)\n",
      "Note: you may need to restart the kernel to use updated packages.\n",
      "Requirement already satisfied: torchvision in /Users/gabrieledele/miniforge3/envs/mlproj/lib/python3.9/site-packages (0.16.0)\n",
      "Requirement already satisfied: numpy in /Users/gabrieledele/miniforge3/envs/mlproj/lib/python3.9/site-packages (from torchvision) (1.26.2)\n",
      "Requirement already satisfied: requests in /Users/gabrieledele/miniforge3/envs/mlproj/lib/python3.9/site-packages (from torchvision) (2.31.0)\n",
      "Requirement already satisfied: torch==2.1.0 in /Users/gabrieledele/miniforge3/envs/mlproj/lib/python3.9/site-packages (from torchvision) (2.1.0)\n",
      "Requirement already satisfied: pillow!=8.3.*,>=5.3.0 in /Users/gabrieledele/miniforge3/envs/mlproj/lib/python3.9/site-packages (from torchvision) (10.1.0)\n",
      "Requirement already satisfied: filelock in /Users/gabrieledele/miniforge3/envs/mlproj/lib/python3.9/site-packages (from torch==2.1.0->torchvision) (3.13.1)\n",
      "Requirement already satisfied: typing-extensions in /Users/gabrieledele/miniforge3/envs/mlproj/lib/python3.9/site-packages (from torch==2.1.0->torchvision) (4.9.0)\n",
      "Requirement already satisfied: sympy in /Users/gabrieledele/miniforge3/envs/mlproj/lib/python3.9/site-packages (from torch==2.1.0->torchvision) (1.12)\n",
      "Requirement already satisfied: networkx in /Users/gabrieledele/miniforge3/envs/mlproj/lib/python3.9/site-packages (from torch==2.1.0->torchvision) (3.2.1)\n",
      "Requirement already satisfied: jinja2 in /Users/gabrieledele/miniforge3/envs/mlproj/lib/python3.9/site-packages (from torch==2.1.0->torchvision) (3.1.2)\n",
      "Requirement already satisfied: fsspec in /Users/gabrieledele/miniforge3/envs/mlproj/lib/python3.9/site-packages (from torch==2.1.0->torchvision) (2023.12.2)\n",
      "Requirement already satisfied: charset-normalizer<4,>=2 in /Users/gabrieledele/miniforge3/envs/mlproj/lib/python3.9/site-packages (from requests->torchvision) (3.3.2)\n",
      "Requirement already satisfied: idna<4,>=2.5 in /Users/gabrieledele/miniforge3/envs/mlproj/lib/python3.9/site-packages (from requests->torchvision) (3.6)\n",
      "Requirement already satisfied: urllib3<3,>=1.21.1 in /Users/gabrieledele/miniforge3/envs/mlproj/lib/python3.9/site-packages (from requests->torchvision) (2.1.0)\n",
      "Requirement already satisfied: certifi>=2017.4.17 in /Users/gabrieledele/miniforge3/envs/mlproj/lib/python3.9/site-packages (from requests->torchvision) (2023.11.17)\n",
      "Requirement already satisfied: MarkupSafe>=2.0 in /Users/gabrieledele/miniforge3/envs/mlproj/lib/python3.9/site-packages (from jinja2->torch==2.1.0->torchvision) (2.1.3)\n",
      "Requirement already satisfied: mpmath>=0.19 in /Users/gabrieledele/miniforge3/envs/mlproj/lib/python3.9/site-packages (from sympy->torch==2.1.0->torchvision) (1.3.0)\n",
      "Note: you may need to restart the kernel to use updated packages.\n",
      "Collecting torchsummary\n",
      "  Downloading torchsummary-1.5.1-py3-none-any.whl (2.8 kB)\n",
      "Installing collected packages: torchsummary\n",
      "Successfully installed torchsummary-1.5.1\n",
      "Note: you may need to restart the kernel to use updated packages.\n"
     ]
    }
   ],
   "source": [
    "%pip install torch\n",
    "%pip install torchvision\n",
    "%pip install torchsummary"
   ]
  },
  {
   "cell_type": "code",
   "execution_count": 1,
   "metadata": {},
   "outputs": [
    {
     "name": "stdout",
     "output_type": "stream",
     "text": [
      "Note: you may need to restart the kernel to use updated packages.\n"
     ]
    }
   ],
   "source": [
    "import torch\n",
    "import torch.nn as nn\n",
    "import torch.nn.functional as F\n",
    "import torch.optim as optim\n",
    "from torch.utils.data import DataLoader\n",
    "import torchvision\n",
    "import torchvision.models as models\n",
    "from torchvision import datasets\n",
    "from torchvision import transforms as T\n",
    "from torchsummary import summary\n",
    "\n",
    "\n",
    "%pip install wandb -q\n",
    "import wandb"
   ]
  },
  {
   "cell_type": "code",
   "execution_count": null,
   "metadata": {},
   "outputs": [],
   "source": [
    "!wandb login"
   ]
  },
  {
   "cell_type": "code",
   "execution_count": null,
   "metadata": {},
   "outputs": [],
   "source": [
    "wandb.init(project=\"ML4NLP2\", name=\"run1\")"
   ]
  }
 ],
 "metadata": {
  "kernelspec": {
   "display_name": "mlproj",
   "language": "python",
   "name": "python3"
  },
  "language_info": {
   "codemirror_mode": {
    "name": "ipython",
    "version": 3
   },
   "file_extension": ".py",
   "mimetype": "text/x-python",
   "name": "python",
   "nbconvert_exporter": "python",
   "pygments_lexer": "ipython3",
   "version": "3.9.18"
  }
 },
 "nbformat": 4,
 "nbformat_minor": 2
}
